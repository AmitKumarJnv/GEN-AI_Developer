{
 "cells": [
  {
   "cell_type": "code",
   "execution_count": 2,
   "id": "3e711312",
   "metadata": {},
   "outputs": [
    {
     "name": "stdout",
     "output_type": "stream",
     "text": [
      "Successfully updated requirements.txt with relevant package versions from 'pip list'.\n"
     ]
    }
   ],
   "source": [
    "import subprocess\n",
    "import json\n",
    "import re\n",
    "\n",
    "def update_requirements_from_pip_list(requirements_file=\"requirements.txt\"):\n",
    "    \"\"\"\n",
    "    Updates the versions in requirements.txt based on the output of 'pip list'.\n",
    "    Only updates packages already listed in the file.\n",
    "    \"\"\"\n",
    "    try:\n",
    "        # Get pip list output in JSON format\n",
    "        pip_list_output = subprocess.run(\n",
    "            [\"pip\", \"list\", \"--format\", \"json\"], capture_output=True, text=True, check=True\n",
    "        )\n",
    "        installed_packages = json.loads(pip_list_output.stdout)\n",
    "\n",
    "        # Create a dictionary for easy lookup: {package_name: version}\n",
    "        installed_versions = {pkg[\"name\"].lower(): pkg[\"version\"] for pkg in installed_packages}\n",
    "\n",
    "        updated_lines = []\n",
    "        with open(requirements_file, \"r\") as f:\n",
    "            for line in f:\n",
    "                original_line = line.strip()\n",
    "                if not original_line or original_line.startswith(\"#\"):\n",
    "                    updated_lines.append(original_line)\n",
    "                    continue\n",
    "\n",
    "                # Extract package name (ignoring version specifiers)\n",
    "                package_match = re.match(r\"([a-zA-Z0-9._-]+)\", original_line)\n",
    "                if package_match:\n",
    "                    package_name = package_match.group(1).lower()  # Convert to lowercase for consistent matching\n",
    "                    if package_name in installed_versions:\n",
    "                        installed_version = installed_versions[package_name]\n",
    "                        updated_lines.append(f\"{package_name}=={installed_version}\")\n",
    "                    else:\n",
    "                        print(f\"Warning: {package_name} from requirements.txt not found in 'pip list' output. Keeping original line.\")\n",
    "                        updated_lines.append(original_line)\n",
    "                else:\n",
    "                    updated_lines.append(original_line) # Keep lines that don't match the package format\n",
    "\n",
    "        # Write the updated lines back to the requirements.txt file\n",
    "        with open(requirements_file, \"w\") as f:\n",
    "            for line in updated_lines:\n",
    "                f.write(line + \"\\n\")\n",
    "        print(f\"Successfully updated {requirements_file} with relevant package versions from 'pip list'.\")\n",
    "\n",
    "    except subprocess.CalledProcessError as e:\n",
    "        print(f\"Error running 'pip list': {e}\")\n",
    "        print(f\"Command output: {e.stdout}\")\n",
    "        print(f\"Error output: {e.stderr}\")\n",
    "    except json.JSONDecodeError as e:\n",
    "        print(f\"Error parsing JSON output from 'pip list': {e}\")\n",
    "    except Exception as e:\n",
    "        print(f\"An unexpected error occurred: {e}\")\n",
    "\n",
    "if __name__ == \"__main__\":\n",
    "    update_requirements_from_pip_list()\n"
   ]
  }
 ],
 "metadata": {
  "kernelspec": {
   "display_name": ".langsmith",
   "language": "python",
   "name": "python3"
  },
  "language_info": {
   "codemirror_mode": {
    "name": "ipython",
    "version": 3
   },
   "file_extension": ".py",
   "mimetype": "text/x-python",
   "name": "python",
   "nbconvert_exporter": "python",
   "pygments_lexer": "ipython3",
   "version": "3.10.2"
  }
 },
 "nbformat": 4,
 "nbformat_minor": 5
}
